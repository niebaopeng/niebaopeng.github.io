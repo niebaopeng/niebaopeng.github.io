{
 "cells": [
  {
   "cell_type": "code",
   "execution_count": null,
   "id": "b4aaa897",
   "metadata": {},
   "outputs": [],
   "source": [
    "import math\n",
    "import sys\n",
    "import os\n",
    "\n",
    "import ipyplot\n",
    "\n",
    "import numpy as np\n",
    "import pandas as pd\n",
    "\n",
    "import insightface\n",
    "import insightface.app as app\n",
    "\n",
    "#plt.imshow(f2)\n",
    "#import urllib\n",
    "import PIL\n",
    "#import timm\n",
    "import torch\n",
    "import shapely\n",
    "import cv2\n",
    "\n",
    "from insightface.app import FaceAnalysis\n",
    "from insightface.data import get_image as ins_get_image\n",
    "\n",
    "from shapely.geometry import *\n",
    "from pathlib import Path\n",
    "from ipywidgets import widgets\n",
    "\n",
    "from matplotlib import pyplot as plt"
   ]
  },
  {
   "cell_type": "code",
   "execution_count": null,
   "id": "1abba9ee",
   "metadata": {},
   "outputs": [],
   "source": [
    "\n",
    "class Face(object):\n",
    "    from autogluon.multimodal import MultiModalPredictor\n",
    "    predictor = MultiModalPredictor.load(\"/home/taylor/AutogluonModels/avatars_face\")\n",
    "    #predictor.evaluate(test_data)\n",
    "    app = FaceAnalysis() # enable detection model only\n",
    "    app.prepare(ctx_id=0, det_size=(224, 224))\n",
    "    def __init__(self,filepath):\n",
    "        self.filepath=filepath\n",
    "        img = cv2.imread(self.filepath)\n",
    "        img = cv2.resize(img,(224,224))\n",
    "        self.faces = Face.app.get(img)\n",
    "        self.blur = cv2.Laplacian(img, cv2.CV_64F).var()\n",
    "        self.proba = self.predictor.predict_proba(data=self.filepath,realtime=True)\n",
    "    def is_zero_faces(self):\n",
    "        if self.faces:\n",
    "            return len(self.faces)==0\n",
    "        else:\n",
    "            return True\n",
    "    def major_face_angle(self):\n",
    "        land = self.faces[0]['landmark_3d_68']\n",
    "        low_mid = land[8]\n",
    "        up_mid = land[27]\n",
    "        #land2d = filepath[2][0]['landmark_2d_106']\n",
    "        #low_mid2d = land2d[16] #num 17 \n",
    "        #up_mid2d = land2d[51] #num 52\n",
    "        y = abs(up_mid[1]-low_mid[1])\n",
    "        x = abs(up_mid[0]-low_mid[0])\n",
    "        #y2d = abs(up_mid2d[1]-low_mid2d[1])\n",
    "        #x2d = abs(up_mid2d[0]-low_mid2d[0])\n",
    "        #angel2d = math.atan2(y,x)\n",
    "        angel = math.atan2(y,x)\n",
    "        a2 = angel/math.pi*180\n",
    "        return a2\n",
    "    def area_of_face(self,face_index):\n",
    "            land1 = self.faces[face_index]['landmark_2d_106'][0:33]\n",
    "            area1 = Polygon(land1).area\n",
    "            return area1\n",
    "    def face_ratio_by_multi_faces(self):\n",
    "        if len(self.faces)>=2:\n",
    "            return self.area_of_face(1)/self.area_of_face(0)\n",
    "        else:\n",
    "            return None\n",
    "    def good_for_port(self):\n",
    "        if self.proba[0][0] > 0.6:\n",
    "            return True,\"ByModel\"\n",
    "        elif self.proba[0][0] < 0.4:\n",
    "            return False,\"ByModel\"\n",
    "        elif self.blur < 40:\n",
    "            return False,\"Blur\"\n",
    "        elif len(self.faces) == 0:\n",
    "            return False,\"ZeroFaces\"\n",
    "        elif len(self.faces) >= 2:\n",
    "            return False,\"Two+Faces\"\n",
    "        elif self.major_face_angle() < 50:\n",
    "            return False,\"SlantFace\"\n",
    "        else :\n",
    "            return True,\"GoodFace\""
   ]
  },
  {
   "cell_type": "code",
   "execution_count": null,
   "id": "433a76e8",
   "metadata": {},
   "outputs": [],
   "source": [
    "import pathlib\n",
    "fulllist = pathlib.Path(\".\").glob(\"avatars224/passed/*.*\")\n",
    "z = list(str(a) for a in fulllist)\n",
    "for f in z:\n",
    "    face = Face(f)\n",
    "    a,b = face.good_for_port()\n",
    "    if not a:\n",
    "        print(f,b)"
   ]
  },
  {
   "cell_type": "code",
   "execution_count": null,
   "id": "71c46def",
   "metadata": {
    "scrolled": true
   },
   "outputs": [],
   "source": [
    "import pathlib\n",
    "fulllist = pathlib.Path(\".\").glob(\"avatars224/rejected/*.*\")\n",
    "z = sorted(list(str(a) for a in fulllist))\n",
    "for f in z[:100]:\n",
    "    face = Face(f)\n",
    "    a,b = face.good_for_port()\n",
    "    if a:\n",
    "        print(f,b)"
   ]
  },
  {
   "cell_type": "code",
   "execution_count": null,
   "id": "91d2c4bd",
   "metadata": {},
   "outputs": [],
   "source": [
    "#create dataset\n",
    "\n",
    "import csv\n",
    "import os\n",
    "os.chdir(\"avatars224\")\n",
    "with open('train.csv', 'w', newline='') as f:\n",
    "    lable_to_idx={\n",
    "        \"passed\":0,\n",
    "        \"rejectd\":1\n",
    "    }\n",
    "    writer = csv.writer(f)\n",
    "    writer.writerow([\"image\",\"label\"])\n",
    "    for img in glob.glob(\"/home/taylor/avatars224/train/passed/*.png\"):\n",
    "        writer.writerow([img,0])\n",
    "    for img in glob.glob(\"/home/taylor/avatars224/train/rejected/*.png\"):\n",
    "        writer.writerow([img,1])\n",
    "    \n",
    "with open('test.csv', 'w', newline='') as f:\n",
    "    lable_to_idx={\n",
    "        \"passed\":0,\n",
    "        \"rejectd\":1\n",
    "    }\n",
    "    writer = csv.writer(f)\n",
    "    writer.writerow([\"image\",\"label\"])\n",
    "    for img in glob.glob(\"/home/taylor/avatars224/test/passed/*.png\"):\n",
    "        writer.writerow([img,0])\n",
    "    for img in glob.glob(\"/home/taylor/avatars224/test/rejected/*.png\"):\n",
    "        writer.writerow([img,1])\n",
    "    \n",
    "    "
   ]
  },
  {
   "cell_type": "code",
   "execution_count": null,
   "id": "328d465d",
   "metadata": {},
   "outputs": [],
   "source": [
    "#load dataset\n",
    "\n",
    "os.chdir(\"/home/taylor\")\n",
    "train_data = pd.read_csv(\"avatars224/train.csv\")\n",
    "test_data = pd.read_csv(\"avatars224/test.csv\")"
   ]
  },
  {
   "cell_type": "code",
   "execution_count": null,
   "id": "9753bcd3",
   "metadata": {
    "scrolled": true
   },
   "outputs": [],
   "source": [
    "#train the model\n",
    "\n",
    "from autogluon.multimodal import MultiModalPredictor\n",
    "from autogluon.multimodal.utils.misc import shopee_dataset\n",
    "\n",
    "predictor = MultiModalPredictor(label='label').fit(train_data=train_data)\n",
    "predictions = predictor.predict(test_data)"
   ]
  },
  {
   "cell_type": "code",
   "execution_count": null,
   "id": "dfd1637e",
   "metadata": {
    "scrolled": true
   },
   "outputs": [],
   "source": [
    "# done the predictor\n",
    "from autogluon.multimodal import MultiModalPredictor\n",
    "\n",
    "\n",
    "predictor = MultiModalPredictor(label='label').fit(train_data=train_data)\n",
    "predictions = predictor.predict(test_data)"
   ]
  },
  {
   "cell_type": "code",
   "execution_count": null,
   "id": "757bdd26",
   "metadata": {
    "scrolled": true
   },
   "outputs": [],
   "source": [
    "# doing some check\n",
    "from IPython import display\n",
    "import pathlib\n",
    "fulllist = pathlib.Path(\".\").glob(\"avatars224/passed/*.*\")\n",
    "z = list(str(a) for a in fulllist)\n",
    "for f in z[:100]:\n",
    "    face = Face(f)\n",
    "    a,b = face.good_for_port()\n",
    "    if not a:\n",
    "        print(f,b,predictor.predict(data=f,realtime=True),predictor.predict_proba(data=f,realtime=True))\n",
    "        ipyplot.plot_images([f,])\n",
    "        \n",
    "        "
   ]
  },
  {
   "cell_type": "code",
   "execution_count": null,
   "id": "b234b4ae",
   "metadata": {},
   "outputs": [],
   "source": [
    "# doing some check\n",
    "import os\n",
    "os.chdir(\"/home/taylor\")\n",
    "import warnings\n",
    "warnings.filterwarnings('ignore')\n",
    "\n",
    "from IPython import display\n",
    "import pathlib\n",
    "fulllist = pathlib.Path(\".\").glob(\"avatars224/test/rejected/*.*\")\n",
    "z = list(str(a) for a in fulllist)\n",
    "for f in z[:100]:\n",
    "    face = Face(f)\n",
    "    a,b = face.good_for_port()\n",
    "    if a:\n",
    "        print(f,b,predictor.predict(data=f,realtime=True),predictor.predict_proba(data=f,realtime=True))\n",
    "        ipyplot.plot_images([f,])"
   ]
  }
 ],
 "metadata": {
  "kernelspec": {
   "display_name": "Python 3 (ipykernel)",
   "language": "python",
   "name": "python3"
  },
  "language_info": {
   "codemirror_mode": {
    "name": "ipython",
    "version": 3
   },
   "file_extension": ".py",
   "mimetype": "text/x-python",
   "name": "python",
   "nbconvert_exporter": "python",
   "pygments_lexer": "ipython3",
   "version": "3.8.10"
  },
  "nikola": {
   "date": "2023-04-14 19:00:00 CST",
   "title": "正装照片识别"
  }
 },
 "nbformat": 4,
 "nbformat_minor": 5
}
